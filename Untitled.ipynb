{
 "cells": [
  {
   "cell_type": "code",
   "execution_count": null,
   "metadata": {},
   "outputs": [],
   "source": [
    "import random\n",
    "word_list = [\"aardvark\", \"baboon\", \"camel\"]\n",
    "\n",
    "chosen_word = random.choice(word_list)\n",
    "print(chosen_word)\n",
    "\n",
    "placeholder = \"\"\n",
    "word_length = len(chosen_word)\n",
    "for position in range(word_length):\n",
    "    placeholder += \"_\"\n",
    "print(placeholder)\n",
    "\n",
    "# TODO-1: - Use a while loop to let the user guess again.\n",
    "while display != chosen_word:\n",
    "    guess = input(\"Guess a letter: \").lower()\n",
    "    display = \"\"\n",
    "    for char in display:\n",
    "        if guess in chosen_word"
   ]
  },
  {
   "cell_type": "code",
   "execution_count": null,
   "metadata": {},
   "outputs": [],
   "source": []
  }
 ],
 "metadata": {
  "kernelspec": {
   "display_name": "Python 3",
   "language": "python",
   "name": "python3"
  },
  "language_info": {
   "codemirror_mode": {
    "name": "ipython",
    "version": 3
   },
   "file_extension": ".py",
   "mimetype": "text/x-python",
   "name": "python",
   "nbconvert_exporter": "python",
   "pygments_lexer": "ipython3",
   "version": "3.12.1"
  }
 },
 "nbformat": 4,
 "nbformat_minor": 2
}
